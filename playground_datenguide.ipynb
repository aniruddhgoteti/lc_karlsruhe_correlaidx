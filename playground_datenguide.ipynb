{
 "cells": [
  {
   "cell_type": "markdown",
   "metadata": {},
   "source": [
    "### Load NUTS geo data using https://github.com/eurostat/Nuts2json"
   ]
  },
  {
   "cell_type": "code",
   "execution_count": null,
   "metadata": {},
   "outputs": [],
   "source": [
    "%matplotlib inline\n",
    "import geopandas as gpd"
   ]
  },
  {
   "cell_type": "code",
   "execution_count": null,
   "metadata": {},
   "outputs": [],
   "source": [
    "def get_nuts_geopandas(year, nuts_level, scale, projection=3035, feature_type=\"nutsrg\"):\n",
    "    \"\"\"Retrieves geo data of NUTS regions for specified year, level, scale and projection\n",
    "    as a geopandas GeoDataFrame.\n",
    "\n",
    "    Parameters\n",
    "    ----------\n",
    "    year : int\n",
    "        Year for which to retrieve NUTS geo data. Available years: 2010, 2013, 2016.\n",
    "    nuts_level : int\n",
    "        The NUTS level to be displayed on the map. Available levels: 0, 1, 2, 3, from \n",
    "        national (`nuts_level`=0) to local level (`nuts_level`=3).\n",
    "    scale : str\n",
    "        The intended map scale factor. The larger the value, the stronger the simplification.\n",
    "        For example, for a map width of 1000 pixels the scale 1:20M is the most suitable.\n",
    "        Available scales: 1:10M, 1:20M, 1:60M\n",
    "    projection : int, optional\n",
    "        The coordinate reference system EPSG code, by default 3035.\n",
    "        Two projections are provided: European LAEA projection (EPSG 3035) and\n",
    "        web mercator (EPSG 3857). For statistical maps, it is strongly adviced to use an\n",
    "        equal-area projection such as 3035. Geographic coordinates ETRS89 (EPSG 4258) and\n",
    "        WGS84 (EPSG 4326) are also provided.\n",
    "    feature_type : str, optional\n",
    "        The feature type has to be specified, by default \"nutsrg\". For NUTS feature types\n",
    "        (nutsrg and nutsbn), the `nuts_level` to be displayed on the map has to be specified.\n",
    "        The available feature types can be found at: https://github.com/eurostat/Nuts2json.\n",
    "\n",
    "    Returns\n",
    "    -------\n",
    "    geopandas.geodataframe.GeoDataFrame\n",
    "        GeoDataFrame containing geo data according to `feature_type`\n",
    "    \"\"\"\n",
    "    base_url=\"https://raw.githubusercontent.com/eurostat/Nuts2json/master\"\n",
    "    supported_years = {2010, 2013, 2016}\n",
    "    if year not in supported_years:\n",
    "        raise ValueError(f\"year must be one of {supported_years}\")\n",
    "    supported_nuts_levels = {0, 1, 2, 3}\n",
    "    if nuts_level not in supported_nuts_levels:\n",
    "        raise ValueError(f\"nuts_level must be one of {supported_nuts_levels}\")\n",
    "    supported_scales = {\"10M\", \"20M\", \"60M\"}\n",
    "    if scale not in supported_scales:\n",
    "        raise ValueError(f\"scale must be one of {supported_scales}\")\n",
    "    supported_projections = {3035, 3857, 4258, 4326}\n",
    "    if projection not in supported_projections:\n",
    "        raise ValueError(f\"projection must be one of {supported_projections}\")\n",
    "    \n",
    "    url=f\"{base_url}/{year}/{projection}/{scale}/{feature_type}_{nuts_level}.json\"\n",
    "\n",
    "    return gpd.read_file(url)"
   ]
  },
  {
   "cell_type": "code",
   "execution_count": null,
   "metadata": {},
   "outputs": [],
   "source": [
    "europe_nuts = get_nuts_geopandas(2016, 1, \"10M\")"
   ]
  },
  {
   "cell_type": "code",
   "execution_count": null,
   "metadata": {},
   "outputs": [],
   "source": [
    "europe_nuts.head()"
   ]
  },
  {
   "cell_type": "code",
   "execution_count": null,
   "metadata": {},
   "outputs": [],
   "source": [
    "europe_nuts.loc[europe_nuts.na.str.contains(\"Karlsruhe\")]"
   ]
  },
  {
   "cell_type": "markdown",
   "metadata": {},
   "source": [
    "# Karlsruhe data"
   ]
  },
  {
   "cell_type": "code",
   "execution_count": null,
   "metadata": {},
   "outputs": [],
   "source": [
    "from datenguidepy import get_regions"
   ]
  },
  {
   "cell_type": "code",
   "execution_count": null,
   "metadata": {},
   "outputs": [],
   "source": [
    "regions = get_regions()"
   ]
  },
  {
   "cell_type": "code",
   "execution_count": null,
   "metadata": {},
   "outputs": [],
   "source": [
    "KA_regions = regions.loc[regions.name.str.contains(\"Karlsruhe\")]\n",
    "KA_regions"
   ]
  },
  {
   "cell_type": "markdown",
   "metadata": {},
   "source": [
    "overview of nuts levels can be found here: https://en.wikipedia.org/wiki/NUTS_statistical_regions_of_Germany"
   ]
  },
  {
   "cell_type": "code",
   "execution_count": null,
   "metadata": {},
   "outputs": [],
   "source": [
    "KA_city_district_id = \"08212\""
   ]
  },
  {
   "cell_type": "code",
   "execution_count": null,
   "metadata": {},
   "outputs": [],
   "source": [
    "from datenguidepy import Query"
   ]
  },
  {
   "cell_type": "code",
   "execution_count": null,
   "metadata": {},
   "outputs": [],
   "source": [
    "query = Query.region(KA_city_district_id)"
   ]
  },
  {
   "cell_type": "markdown",
   "metadata": {},
   "source": [
    "### Add some statistics"
   ]
  },
  {
   "cell_type": "markdown",
   "metadata": {},
   "source": [
    "First get some overview of available statistics and short descriptions"
   ]
  },
  {
   "cell_type": "code",
   "execution_count": null,
   "metadata": {},
   "outputs": [],
   "source": [
    "from datenguidepy import get_statistics"
   ]
  },
  {
   "cell_type": "code",
   "execution_count": null,
   "metadata": {
    "scrolled": true
   },
   "outputs": [],
   "source": [
    "# return statistical descriptions in English\n",
    "statistics = get_statistics(target_language = \"en\")\n",
    "statistics.head()"
   ]
  },
  {
   "cell_type": "code",
   "execution_count": null,
   "metadata": {
    "scrolled": true
   },
   "outputs": [],
   "source": [
    "statistics.loc[statistics.short_description.str.contains(\"housing\"), [\"short_description\"]]"
   ]
  },
  {
   "cell_type": "markdown",
   "metadata": {},
   "source": [
    "`datenguidepy` provides convenience functionality to get an overview of available statistics:"
   ]
  },
  {
   "cell_type": "code",
   "execution_count": null,
   "metadata": {},
   "outputs": [],
   "source": [
    "from datenguidepy import get_availability_summary "
   ]
  },
  {
   "cell_type": "code",
   "execution_count": null,
   "metadata": {
    "scrolled": true
   },
   "outputs": [],
   "source": [
    "availability_result = get_availability_summary()\n",
    "availability_KA = availability_result.loc[KA_city_district_id].copy()"
   ]
  },
  {
   "cell_type": "code",
   "execution_count": null,
   "metadata": {},
   "outputs": [],
   "source": [
    "availability_KA.dropna().sort_values(by=[\"entries\"], ascending=False)"
   ]
  },
  {
   "cell_type": "markdown",
   "metadata": {},
   "source": [
    "example query of some statistics:"
   ]
  },
  {
   "cell_type": "code",
   "execution_count": null,
   "metadata": {},
   "outputs": [],
   "source": [
    "year_range = list(range(1995, 2018))\n",
    "stat1 = query.add_field(\"BETR01\")\n",
    "stat1.add_args({\"year\": year_range})\n",
    "stat2 = query.add_field(\"ERW012\")\n",
    "stat2.add_args({\"year\": year_range})\n"
   ]
  },
  {
   "cell_type": "code",
   "execution_count": null,
   "metadata": {
    "scrolled": false
   },
   "outputs": [],
   "source": [
    "query.results(\n",
    "    verbose_statistics = True,\n",
    "    add_units = True,\n",
    ")"
   ]
  }
 ],
 "metadata": {
  "kernelspec": {
   "display_name": "Python 3",
   "language": "python",
   "name": "python3"
  },
  "language_info": {
   "codemirror_mode": {
    "name": "ipython",
    "version": 3
   },
   "file_extension": ".py",
   "mimetype": "text/x-python",
   "name": "python",
   "nbconvert_exporter": "python",
   "pygments_lexer": "ipython3",
   "version": "3.7.3"
  }
 },
 "nbformat": 4,
 "nbformat_minor": 4
}
